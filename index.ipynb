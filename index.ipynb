{
 "cells": [
  {
   "cell_type": "markdown",
   "metadata": {},
   "source": [
    "# Objects Discussion Questions"
   ]
  },
  {
   "cell_type": "markdown",
   "metadata": {},
   "source": [
    "### Introduction"
   ]
  },
  {
   "cell_type": "markdown",
   "metadata": {},
   "source": [
    "Previously, we learned about object oriented programming.  Let's do some brief review in this lesson."
   ]
  },
  {
   "cell_type": "markdown",
   "metadata": {},
   "source": [
    "### 1. Creating Objects"
   ]
  },
  {
   "cell_type": "markdown",
   "metadata": {},
   "source": [
    "1. Below, create a class called `Plane`, and initialize two different plane instances."
   ]
  },
  {
   "cell_type": "code",
   "execution_count": 30,
   "metadata": {},
   "outputs": [],
   "source": [
    "# create the plane class here\n",
    "import datetime\n",
    "class Plane:\n",
    "    pass"
   ]
  },
  {
   "cell_type": "code",
   "execution_count": 10,
   "metadata": {},
   "outputs": [],
   "source": [
    "boeing = None"
   ]
  },
  {
   "cell_type": "code",
   "execution_count": 11,
   "metadata": {},
   "outputs": [],
   "source": [
    "twa = None"
   ]
  },
  {
   "cell_type": "markdown",
   "metadata": {},
   "source": [
    "Next add a couple of attributes to the boeing plane."
   ]
  },
  {
   "cell_type": "markdown",
   "metadata": {},
   "source": [
    "Give the Boeing instance the following attributes:\n",
    "* Assign the `seats_per_row` to be `10` \n",
    "* And assign be and `number_of_rows` to be 30."
   ]
  },
  {
   "cell_type": "markdown",
   "metadata": {},
   "source": [
    "Give the `twa` instance the following attributes:\n",
    "* Assign the `seats_per_row` to be `6` \n",
    "* And assign be and `number_of_rows` to be `25`."
   ]
  },
  {
   "cell_type": "markdown",
   "metadata": {},
   "source": [
    "### 2. Enforcing Attributes"
   ]
  },
  {
   "cell_type": "markdown",
   "metadata": {},
   "source": [
    "A. Next update the `Plane` class so that a plane cannot be created unless the `seat_per_row` is assigned.  \n",
    "\n",
    "B. The class also allows for the `number_of_rows` to be assigned upon initialization, but if not assigned, the instance assigns the default number of 20 seats to the plane.\n",
    "\n",
    "C. Finally an instance of the class must also be initialized with a `year` attribute to represent the year it was built."
   ]
  },
  {
   "cell_type": "code",
   "execution_count": 15,
   "metadata": {},
   "outputs": [
    {
     "data": {
      "text/plain": [
       "{'seats_per_row': 10, 'number_of_rows': 20, 'year': 2020}"
      ]
     },
     "execution_count": 15,
     "metadata": {},
     "output_type": "execute_result"
    }
   ],
   "source": [
    "boeing_2020 = Plane(year = 2020, seats_per_row = 10)\n",
    "\n",
    "boeing_2020.__dict__\n",
    "# {'seats_per_row': 10, 'number_of_rows': 20, 'year': 2020}"
   ]
  },
  {
   "cell_type": "code",
   "execution_count": 18,
   "metadata": {},
   "outputs": [
    {
     "data": {
      "text/plain": [
       "{'seats_per_row': 17, 'number_of_rows': 10, 'year': 2017}"
      ]
     },
     "execution_count": 18,
     "metadata": {},
     "output_type": "execute_result"
    }
   ],
   "source": [
    "twa = Plane(year = 2017, seats_per_row = 17, number_of_rows = 10)\n",
    "\n",
    "twa.__dict__\n",
    "# {'seats_per_row': 17, 'number_of_rows': 10, 'year': 2017}"
   ]
  },
  {
   "cell_type": "markdown",
   "metadata": {},
   "source": [
    "### 3. Adding Methods\n",
    "\n",
    "Now let's add a couple of methods to the `Plane` class.  \n",
    "\n",
    "* `total_seats`\n",
    "    * Write a method that uses the `number_of_rows` and `seats_per_row` to calculate the total number of seats in the plane.\n",
    "\n",
    "* `age`\n",
    "    * Write a method that uses the `year` attribute to return the number of years old that the plane is.\n",
    "    * Try to use the `datetime` module so that the calculation will continue to be accurate in future years"
   ]
  },
  {
   "cell_type": "code",
   "execution_count": 27,
   "metadata": {},
   "outputs": [],
   "source": [
    "twa = Plane(year = 2017, seats_per_row = 17, number_of_rows = 10)"
   ]
  },
  {
   "cell_type": "code",
   "execution_count": 28,
   "metadata": {},
   "outputs": [
    {
     "data": {
      "text/plain": [
       "170"
      ]
     },
     "execution_count": 28,
     "metadata": {},
     "output_type": "execute_result"
    }
   ],
   "source": [
    "twa.total_seats()\n",
    "# 170"
   ]
  },
  {
   "cell_type": "code",
   "execution_count": 29,
   "metadata": {},
   "outputs": [
    {
     "data": {
      "text/plain": [
       "3"
      ]
     },
     "execution_count": 29,
     "metadata": {},
     "output_type": "execute_result"
    }
   ],
   "source": [
    "twa.age()\n",
    "# 3"
   ]
  }
 ],
 "metadata": {
  "kernelspec": {
   "display_name": "Python 3",
   "language": "python",
   "name": "python3"
  },
  "language_info": {
   "codemirror_mode": {
    "name": "ipython",
    "version": 3
   },
   "file_extension": ".py",
   "mimetype": "text/x-python",
   "name": "python",
   "nbconvert_exporter": "python",
   "pygments_lexer": "ipython3",
   "version": "3.7.4"
  }
 },
 "nbformat": 4,
 "nbformat_minor": 4
}
